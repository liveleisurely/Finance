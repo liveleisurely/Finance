{
  "nbformat": 4,
  "nbformat_minor": 0,
  "metadata": {
    "colab": {
      "name": "EstimatingPi.ipynb의 사본",
      "provenance": [],
      "collapsed_sections": []
    },
    "kernelspec": {
      "name": "python3",
      "display_name": "Python 3"
    }
  },
  "cells": [
    {
      "cell_type": "markdown",
      "metadata": {
        "id": "x_94L8Ovy6QK"
      },
      "source": [
        "# Estimating Pi"
      ]
    },
    {
      "cell_type": "code",
      "metadata": {
        "id": "MhOHeOabjNzS"
      },
      "source": [
        "import numpy as np\r\n",
        "import pandas as pd \r\n",
        "from random import *"
      ],
      "execution_count": 83,
      "outputs": []
    },
    {
      "cell_type": "code",
      "metadata": {
        "colab": {
          "base_uri": "https://localhost:8080/"
        },
        "id": "iBKRELKwi9-9",
        "outputId": "83d2b7bf-822f-44ec-908d-9292deb7da89"
      },
      "source": [
        "all_points = []\r\n",
        "for i in range(1000):\r\n",
        "    x1 = uniform(0,1)\r\n",
        "    x2 = uniform(0,1)\r\n",
        "    point = [x1, x2]\r\n",
        "    all_points.append(point)\r\n",
        "\r\n",
        "# Convert to Dataframe\r\n",
        "df = pd.DataFrame(all_points, columns=[\"x1\",\"x2\"])\r\n",
        "\r\n",
        "# Add distance column\r\n",
        "df['dist'] = (df['x1']**2 + df['x2']**2) ** 0.5\r\n",
        "print(df)"
      ],
      "execution_count": 84,
      "outputs": [
        {
          "output_type": "stream",
          "text": [
            "           x1        x2      dist\n",
            "0    0.259764  0.210754  0.334507\n",
            "1    0.198200  0.939593  0.960270\n",
            "2    0.458377  0.934121  1.040525\n",
            "3    0.214619  0.435385  0.485409\n",
            "4    0.526196  0.750869  0.916889\n",
            "..        ...       ...       ...\n",
            "995  0.884194  0.038188  0.885018\n",
            "996  0.197673  0.451480  0.492857\n",
            "997  0.057264  0.009778  0.058093\n",
            "998  0.320734  0.802112  0.863860\n",
            "999  0.053694  0.279628  0.284736\n",
            "\n",
            "[1000 rows x 3 columns]\n"
          ],
          "name": "stdout"
        }
      ]
    },
    {
      "cell_type": "code",
      "metadata": {
        "colab": {
          "base_uri": "https://localhost:8080/"
        },
        "id": "azify6-SzGlN",
        "outputId": "6794a8f9-e6e9-4e02-d8f3-7c30d5303b3d"
      },
      "source": [
        "print(\"Pi =\", (sum(df['dist']<=1) / len(df)) * 4)"
      ],
      "execution_count": 85,
      "outputs": [
        {
          "output_type": "stream",
          "text": [
            "Pi = 3.092\n"
          ],
          "name": "stdout"
        }
      ]
    },
    {
      "cell_type": "code",
      "metadata": {
        "colab": {
          "base_uri": "https://localhost:8080/"
        },
        "id": "TbPI-gBBzEKC",
        "outputId": "5954e829-e823-4861-bb36-6cbb736223f7"
      },
      "source": [
        "all_points = []\r\n",
        "for i in range(10000):\r\n",
        "    x1 = uniform(0,1)\r\n",
        "    x2 = uniform(0,1)\r\n",
        "    point = [x1, x2]\r\n",
        "    all_points.append(point)\r\n",
        "\r\n",
        "# Convert to Dataframe\r\n",
        "df = pd.DataFrame(all_points, columns=[\"x1\",\"x2\"])\r\n",
        "\r\n",
        "# Add distance column\r\n",
        "df['dist'] = (df['x1']**2 + df['x2']**2) ** 0.5\r\n",
        "print(df)"
      ],
      "execution_count": 86,
      "outputs": [
        {
          "output_type": "stream",
          "text": [
            "            x1        x2      dist\n",
            "0     0.424564  0.119483  0.441056\n",
            "1     0.785631  0.344443  0.857821\n",
            "2     0.574624  0.770624  0.961277\n",
            "3     0.721235  0.087768  0.726555\n",
            "4     0.976402  0.005032  0.976415\n",
            "...        ...       ...       ...\n",
            "9995  0.547350  0.975401  1.118481\n",
            "9996  0.851701  0.669139  1.083117\n",
            "9997  0.910401  0.565606  1.071793\n",
            "9998  0.590162  0.288716  0.656999\n",
            "9999  0.151964  0.220935  0.268152\n",
            "\n",
            "[10000 rows x 3 columns]\n"
          ],
          "name": "stdout"
        }
      ]
    },
    {
      "cell_type": "code",
      "metadata": {
        "colab": {
          "base_uri": "https://localhost:8080/"
        },
        "id": "XgyK8B5nygbR",
        "outputId": "492ee8e6-9d98-4fb8-a3c0-4ab3af30140b"
      },
      "source": [
        "print(\"Pi =\", (sum(df['dist']<=1) / len(df)) * 4)"
      ],
      "execution_count": 87,
      "outputs": [
        {
          "output_type": "stream",
          "text": [
            "Pi = 3.1484\n"
          ],
          "name": "stdout"
        }
      ]
    },
    {
      "cell_type": "code",
      "metadata": {
        "colab": {
          "base_uri": "https://localhost:8080/"
        },
        "id": "CvNAoSQ1zMCt",
        "outputId": "0fa2ba76-f1f6-4404-8ed9-c20f347cb284"
      },
      "source": [
        "all_points = []\r\n",
        "for i in range(100000):\r\n",
        "    x1 = uniform(0,1)\r\n",
        "    x2 = uniform(0,1)\r\n",
        "    point = [x1, x2]\r\n",
        "    all_points.append(point)\r\n",
        "\r\n",
        "# Convert to Dataframe\r\n",
        "df = pd.DataFrame(all_points, columns=[\"x1\",\"x2\"])\r\n",
        "\r\n",
        "# Add distance column\r\n",
        "df['dist'] = (df['x1']**2 + df['x2']**2) ** 0.5\r\n",
        "print(df)"
      ],
      "execution_count": 88,
      "outputs": [
        {
          "output_type": "stream",
          "text": [
            "             x1        x2      dist\n",
            "0      0.527305  0.890961  1.035307\n",
            "1      0.275559  0.536718  0.603323\n",
            "2      0.519301  0.778320  0.935658\n",
            "3      0.694014  0.922861  1.154698\n",
            "4      0.151754  0.789604  0.804055\n",
            "...         ...       ...       ...\n",
            "99995  0.167341  0.138130  0.216986\n",
            "99996  0.588361  0.258921  0.642813\n",
            "99997  0.557738  0.705350  0.899216\n",
            "99998  0.080116  0.387270  0.395471\n",
            "99999  0.276528  0.988923  1.026857\n",
            "\n",
            "[100000 rows x 3 columns]\n"
          ],
          "name": "stdout"
        }
      ]
    },
    {
      "cell_type": "code",
      "metadata": {
        "colab": {
          "base_uri": "https://localhost:8080/"
        },
        "id": "qFpzN6jSzP6G",
        "outputId": "c74b840a-4779-4d01-b8b7-45ef18b55d3b"
      },
      "source": [
        "print(\"Pi =\", (sum(df['dist']<=1) / len(df)) * 4)"
      ],
      "execution_count": 89,
      "outputs": [
        {
          "output_type": "stream",
          "text": [
            "Pi = 3.14112\n"
          ],
          "name": "stdout"
        }
      ]
    }
  ]
}