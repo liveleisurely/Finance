{
  "nbformat": 4,
  "nbformat_minor": 0,
  "metadata": {
    "colab": {
      "name": "LSTM_SAMSUNG_PRICE_EXPECTATION.ipynb",
      "provenance": [],
      "authorship_tag": "ABX9TyOHFBxPqtIR/7iautPHqFYM",
      "include_colab_link": true
    },
    "kernelspec": {
      "name": "python3",
      "display_name": "Python 3"
    },
    "language_info": {
      "name": "python"
    }
  },
  "cells": [
    {
      "cell_type": "markdown",
      "metadata": {
        "id": "view-in-github",
        "colab_type": "text"
      },
      "source": [
        "<a href=\"https://colab.research.google.com/github/liveleisurely/Finance/blob/main/LSTM_SAMSUNG_PRICE_EXPECTATION.ipynb\" target=\"_parent\"><img src=\"https://colab.research.google.com/assets/colab-badge.svg\" alt=\"Open In Colab\"/></a>"
      ]
    },
    {
      "cell_type": "code",
      "metadata": {
        "id": "yHbnITern-OE"
      },
      "source": [
        "import tensorflow as tf\n",
        "import numpy as np\n",
        "import pandas as pd\n",
        "import matplotlib.pyplot as plt\n",
        "from sklearn.preprocessing import MinMaxScaler\n",
        "from keras.models import Sequential, load_model\n",
        "from keras.layers import LSTM, Dense, Dropout\n",
        "import os"
      ],
      "execution_count": 53,
      "outputs": []
    },
    {
      "cell_type": "code",
      "metadata": {
        "colab": {
          "base_uri": "https://localhost:8080/"
        },
        "id": "-4Rv2mUspP2M",
        "outputId": "d76fc219-bfe3-49b0-af7b-2cc23a937452"
      },
      "source": [
        "from google.colab import drive\n",
        "drive.mount('/content/gdrive')"
      ],
      "execution_count": 13,
      "outputs": [
        {
          "output_type": "stream",
          "text": [
            "Mounted at /content/gdrive\n"
          ],
          "name": "stdout"
        }
      ]
    },
    {
      "cell_type": "code",
      "metadata": {
        "colab": {
          "base_uri": "https://localhost:8080/",
          "height": 198
        },
        "id": "FJXep4zwpP7v",
        "outputId": "5e0d461d-8cc4-41ee-ece6-45830eebf89e"
      },
      "source": [
        "data = pd.read_csv('/content/005930.KS.csv')\n",
        "data.head()"
      ],
      "execution_count": 54,
      "outputs": [
        {
          "output_type": "execute_result",
          "data": {
            "text/html": [
              "<div>\n",
              "<style scoped>\n",
              "    .dataframe tbody tr th:only-of-type {\n",
              "        vertical-align: middle;\n",
              "    }\n",
              "\n",
              "    .dataframe tbody tr th {\n",
              "        vertical-align: top;\n",
              "    }\n",
              "\n",
              "    .dataframe thead th {\n",
              "        text-align: right;\n",
              "    }\n",
              "</style>\n",
              "<table border=\"1\" class=\"dataframe\">\n",
              "  <thead>\n",
              "    <tr style=\"text-align: right;\">\n",
              "      <th></th>\n",
              "      <th>Date</th>\n",
              "      <th>Open</th>\n",
              "      <th>High</th>\n",
              "      <th>Low</th>\n",
              "      <th>Close</th>\n",
              "      <th>Adj Close</th>\n",
              "      <th>Volume</th>\n",
              "    </tr>\n",
              "  </thead>\n",
              "  <tbody>\n",
              "    <tr>\n",
              "      <th>0</th>\n",
              "      <td>2016-04-06</td>\n",
              "      <td>25380.0</td>\n",
              "      <td>25820.0</td>\n",
              "      <td>25360.0</td>\n",
              "      <td>25700.0</td>\n",
              "      <td>22346.593750</td>\n",
              "      <td>9211700.0</td>\n",
              "    </tr>\n",
              "    <tr>\n",
              "      <th>1</th>\n",
              "      <td>2016-04-07</td>\n",
              "      <td>26000.0</td>\n",
              "      <td>26000.0</td>\n",
              "      <td>25160.0</td>\n",
              "      <td>25380.0</td>\n",
              "      <td>22068.347656</td>\n",
              "      <td>12939750.0</td>\n",
              "    </tr>\n",
              "    <tr>\n",
              "      <th>2</th>\n",
              "      <td>2016-04-08</td>\n",
              "      <td>25380.0</td>\n",
              "      <td>25380.0</td>\n",
              "      <td>24800.0</td>\n",
              "      <td>24920.0</td>\n",
              "      <td>21668.371094</td>\n",
              "      <td>12593400.0</td>\n",
              "    </tr>\n",
              "    <tr>\n",
              "      <th>3</th>\n",
              "      <td>2016-04-11</td>\n",
              "      <td>24920.0</td>\n",
              "      <td>25420.0</td>\n",
              "      <td>24920.0</td>\n",
              "      <td>25320.0</td>\n",
              "      <td>22016.177734</td>\n",
              "      <td>6034650.0</td>\n",
              "    </tr>\n",
              "    <tr>\n",
              "      <th>4</th>\n",
              "      <td>2016-04-12</td>\n",
              "      <td>25400.0</td>\n",
              "      <td>25620.0</td>\n",
              "      <td>25320.0</td>\n",
              "      <td>25500.0</td>\n",
              "      <td>22172.691406</td>\n",
              "      <td>6702700.0</td>\n",
              "    </tr>\n",
              "  </tbody>\n",
              "</table>\n",
              "</div>"
            ],
            "text/plain": [
              "         Date     Open     High      Low    Close     Adj Close      Volume\n",
              "0  2016-04-06  25380.0  25820.0  25360.0  25700.0  22346.593750   9211700.0\n",
              "1  2016-04-07  26000.0  26000.0  25160.0  25380.0  22068.347656  12939750.0\n",
              "2  2016-04-08  25380.0  25380.0  24800.0  24920.0  21668.371094  12593400.0\n",
              "3  2016-04-11  24920.0  25420.0  24920.0  25320.0  22016.177734   6034650.0\n",
              "4  2016-04-12  25400.0  25620.0  25320.0  25500.0  22172.691406   6702700.0"
            ]
          },
          "metadata": {
            "tags": []
          },
          "execution_count": 54
        }
      ]
    },
    {
      "cell_type": "code",
      "metadata": {
        "colab": {
          "base_uri": "https://localhost:8080/",
          "height": 289
        },
        "id": "O9rm4nkbn_99",
        "outputId": "42c066d6-c3ac-441c-f06b-47f75eb542ea"
      },
      "source": [
        "data.describe()"
      ],
      "execution_count": 55,
      "outputs": [
        {
          "output_type": "execute_result",
          "data": {
            "text/html": [
              "<div>\n",
              "<style scoped>\n",
              "    .dataframe tbody tr th:only-of-type {\n",
              "        vertical-align: middle;\n",
              "    }\n",
              "\n",
              "    .dataframe tbody tr th {\n",
              "        vertical-align: top;\n",
              "    }\n",
              "\n",
              "    .dataframe thead th {\n",
              "        text-align: right;\n",
              "    }\n",
              "</style>\n",
              "<table border=\"1\" class=\"dataframe\">\n",
              "  <thead>\n",
              "    <tr style=\"text-align: right;\">\n",
              "      <th></th>\n",
              "      <th>Open</th>\n",
              "      <th>High</th>\n",
              "      <th>Low</th>\n",
              "      <th>Close</th>\n",
              "      <th>Adj Close</th>\n",
              "      <th>Volume</th>\n",
              "    </tr>\n",
              "  </thead>\n",
              "  <tbody>\n",
              "    <tr>\n",
              "      <th>count</th>\n",
              "      <td>1221.000000</td>\n",
              "      <td>1221.000000</td>\n",
              "      <td>1221.000000</td>\n",
              "      <td>1221.000000</td>\n",
              "      <td>1221.000000</td>\n",
              "      <td>1.221000e+03</td>\n",
              "    </tr>\n",
              "    <tr>\n",
              "      <th>mean</th>\n",
              "      <td>48245.888616</td>\n",
              "      <td>48759.328419</td>\n",
              "      <td>47760.515971</td>\n",
              "      <td>48261.113841</td>\n",
              "      <td>44871.079694</td>\n",
              "      <td>1.457529e+07</td>\n",
              "    </tr>\n",
              "    <tr>\n",
              "      <th>std</th>\n",
              "      <td>12484.250155</td>\n",
              "      <td>12659.620525</td>\n",
              "      <td>12333.522810</td>\n",
              "      <td>12470.792700</td>\n",
              "      <td>13349.230394</td>\n",
              "      <td>8.469761e+06</td>\n",
              "    </tr>\n",
              "    <tr>\n",
              "      <th>min</th>\n",
              "      <td>24920.000000</td>\n",
              "      <td>25240.000000</td>\n",
              "      <td>24800.000000</td>\n",
              "      <td>24900.000000</td>\n",
              "      <td>21650.980469</td>\n",
              "      <td>0.000000e+00</td>\n",
              "    </tr>\n",
              "    <tr>\n",
              "      <th>25%</th>\n",
              "      <td>42350.000000</td>\n",
              "      <td>42800.000000</td>\n",
              "      <td>41900.000000</td>\n",
              "      <td>42450.000000</td>\n",
              "      <td>39002.359375</td>\n",
              "      <td>9.185000e+06</td>\n",
              "    </tr>\n",
              "    <tr>\n",
              "      <th>50%</th>\n",
              "      <td>47020.000000</td>\n",
              "      <td>47400.000000</td>\n",
              "      <td>46550.000000</td>\n",
              "      <td>47000.000000</td>\n",
              "      <td>43097.230469</td>\n",
              "      <td>1.225550e+07</td>\n",
              "    </tr>\n",
              "    <tr>\n",
              "      <th>75%</th>\n",
              "      <td>52600.000000</td>\n",
              "      <td>53200.000000</td>\n",
              "      <td>52000.000000</td>\n",
              "      <td>52640.000000</td>\n",
              "      <td>49013.863281</td>\n",
              "      <td>1.724052e+07</td>\n",
              "    </tr>\n",
              "    <tr>\n",
              "      <th>max</th>\n",
              "      <td>90300.000000</td>\n",
              "      <td>96800.000000</td>\n",
              "      <td>89500.000000</td>\n",
              "      <td>91000.000000</td>\n",
              "      <td>91000.000000</td>\n",
              "      <td>9.030618e+07</td>\n",
              "    </tr>\n",
              "  </tbody>\n",
              "</table>\n",
              "</div>"
            ],
            "text/plain": [
              "               Open          High  ...     Adj Close        Volume\n",
              "count   1221.000000   1221.000000  ...   1221.000000  1.221000e+03\n",
              "mean   48245.888616  48759.328419  ...  44871.079694  1.457529e+07\n",
              "std    12484.250155  12659.620525  ...  13349.230394  8.469761e+06\n",
              "min    24920.000000  25240.000000  ...  21650.980469  0.000000e+00\n",
              "25%    42350.000000  42800.000000  ...  39002.359375  9.185000e+06\n",
              "50%    47020.000000  47400.000000  ...  43097.230469  1.225550e+07\n",
              "75%    52600.000000  53200.000000  ...  49013.863281  1.724052e+07\n",
              "max    90300.000000  96800.000000  ...  91000.000000  9.030618e+07\n",
              "\n",
              "[8 rows x 6 columns]"
            ]
          },
          "metadata": {
            "tags": []
          },
          "execution_count": 55
        }
      ]
    },
    {
      "cell_type": "code",
      "metadata": {
        "colab": {
          "base_uri": "https://localhost:8080/"
        },
        "id": "_4tbKBNxoDjR",
        "outputId": "8eac1de0-9c67-481e-a2ff-439f8d1e9621"
      },
      "source": [
        "data.isna().any()"
      ],
      "execution_count": 56,
      "outputs": [
        {
          "output_type": "execute_result",
          "data": {
            "text/plain": [
              "Date         False\n",
              "Open          True\n",
              "High          True\n",
              "Low           True\n",
              "Close         True\n",
              "Adj Close     True\n",
              "Volume        True\n",
              "dtype: bool"
            ]
          },
          "metadata": {
            "tags": []
          },
          "execution_count": 56
        }
      ]
    },
    {
      "cell_type": "code",
      "metadata": {
        "colab": {
          "base_uri": "https://localhost:8080/"
        },
        "id": "B0-SZtjdoVtN",
        "outputId": "0e7f7eee-ff51-45c7-9cee-f6ff3189475e"
      },
      "source": [
        "data.isnull().sum()"
      ],
      "execution_count": 57,
      "outputs": [
        {
          "output_type": "execute_result",
          "data": {
            "text/plain": [
              "Date         0\n",
              "Open         5\n",
              "High         5\n",
              "Low          5\n",
              "Close        5\n",
              "Adj Close    5\n",
              "Volume       5\n",
              "dtype: int64"
            ]
          },
          "metadata": {
            "tags": []
          },
          "execution_count": 57
        }
      ]
    },
    {
      "cell_type": "code",
      "metadata": {
        "colab": {
          "base_uri": "https://localhost:8080/",
          "height": 198
        },
        "id": "BDMJzPnFoYT8",
        "outputId": "b6d24fcd-4fe0-4d88-80eb-eea37d8f0dad"
      },
      "source": [
        "data[data[\"Open\"].isnull()== True].head(11)"
      ],
      "execution_count": 58,
      "outputs": [
        {
          "output_type": "execute_result",
          "data": {
            "text/html": [
              "<div>\n",
              "<style scoped>\n",
              "    .dataframe tbody tr th:only-of-type {\n",
              "        vertical-align: middle;\n",
              "    }\n",
              "\n",
              "    .dataframe tbody tr th {\n",
              "        vertical-align: top;\n",
              "    }\n",
              "\n",
              "    .dataframe thead th {\n",
              "        text-align: right;\n",
              "    }\n",
              "</style>\n",
              "<table border=\"1\" class=\"dataframe\">\n",
              "  <thead>\n",
              "    <tr style=\"text-align: right;\">\n",
              "      <th></th>\n",
              "      <th>Date</th>\n",
              "      <th>Open</th>\n",
              "      <th>High</th>\n",
              "      <th>Low</th>\n",
              "      <th>Close</th>\n",
              "      <th>Adj Close</th>\n",
              "      <th>Volume</th>\n",
              "    </tr>\n",
              "  </thead>\n",
              "  <tbody>\n",
              "    <tr>\n",
              "      <th>395</th>\n",
              "      <td>2017-11-16</td>\n",
              "      <td>NaN</td>\n",
              "      <td>NaN</td>\n",
              "      <td>NaN</td>\n",
              "      <td>NaN</td>\n",
              "      <td>NaN</td>\n",
              "      <td>NaN</td>\n",
              "    </tr>\n",
              "    <tr>\n",
              "      <th>400</th>\n",
              "      <td>2017-11-23</td>\n",
              "      <td>NaN</td>\n",
              "      <td>NaN</td>\n",
              "      <td>NaN</td>\n",
              "      <td>NaN</td>\n",
              "      <td>NaN</td>\n",
              "      <td>NaN</td>\n",
              "    </tr>\n",
              "    <tr>\n",
              "      <th>424</th>\n",
              "      <td>2018-01-02</td>\n",
              "      <td>NaN</td>\n",
              "      <td>NaN</td>\n",
              "      <td>NaN</td>\n",
              "      <td>NaN</td>\n",
              "      <td>NaN</td>\n",
              "      <td>NaN</td>\n",
              "    </tr>\n",
              "    <tr>\n",
              "      <th>637</th>\n",
              "      <td>2018-11-15</td>\n",
              "      <td>NaN</td>\n",
              "      <td>NaN</td>\n",
              "      <td>NaN</td>\n",
              "      <td>NaN</td>\n",
              "      <td>NaN</td>\n",
              "      <td>NaN</td>\n",
              "    </tr>\n",
              "    <tr>\n",
              "      <th>882</th>\n",
              "      <td>2019-11-14</td>\n",
              "      <td>NaN</td>\n",
              "      <td>NaN</td>\n",
              "      <td>NaN</td>\n",
              "      <td>NaN</td>\n",
              "      <td>NaN</td>\n",
              "      <td>NaN</td>\n",
              "    </tr>\n",
              "  </tbody>\n",
              "</table>\n",
              "</div>"
            ],
            "text/plain": [
              "           Date  Open  High  Low  Close  Adj Close  Volume\n",
              "395  2017-11-16   NaN   NaN  NaN    NaN        NaN     NaN\n",
              "400  2017-11-23   NaN   NaN  NaN    NaN        NaN     NaN\n",
              "424  2018-01-02   NaN   NaN  NaN    NaN        NaN     NaN\n",
              "637  2018-11-15   NaN   NaN  NaN    NaN        NaN     NaN\n",
              "882  2019-11-14   NaN   NaN  NaN    NaN        NaN     NaN"
            ]
          },
          "metadata": {
            "tags": []
          },
          "execution_count": 58
        }
      ]
    },
    {
      "cell_type": "code",
      "metadata": {
        "id": "aoz2rMNOoY5S"
      },
      "source": [
        "data.dropna(inplace=True)"
      ],
      "execution_count": 59,
      "outputs": []
    },
    {
      "cell_type": "code",
      "metadata": {
        "colab": {
          "base_uri": "https://localhost:8080/"
        },
        "id": "biGWzjfhoq25",
        "outputId": "feba42f2-247c-4dd4-cac4-d38c9c781c8c"
      },
      "source": [
        "data.isnull().sum()"
      ],
      "execution_count": 60,
      "outputs": [
        {
          "output_type": "execute_result",
          "data": {
            "text/plain": [
              "Date         0\n",
              "Open         0\n",
              "High         0\n",
              "Low          0\n",
              "Close        0\n",
              "Adj Close    0\n",
              "Volume       0\n",
              "dtype: int64"
            ]
          },
          "metadata": {
            "tags": []
          },
          "execution_count": 60
        }
      ]
    },
    {
      "cell_type": "code",
      "metadata": {
        "colab": {
          "base_uri": "https://localhost:8080/",
          "height": 550
        },
        "id": "ymXiQ5eyqMxf",
        "outputId": "6ba63a1f-17a8-4621-ba80-0524e96950b0"
      },
      "source": [
        "plt.figure(figsize=(16,9))\n",
        "plt.plot(range(data.shape[0]),data['Low']+data['High']/2.0)\n",
        "plt.xticks(range(0,data.shape[0],500),data['Date'].loc[::500],rotation=45)\n",
        "plt.xlabel('Date',fontsize=18)\n",
        "plt.ylabel('Mid price',fontsize=18)\n",
        "plt.show()"
      ],
      "execution_count": 61,
      "outputs": [
        {
          "output_type": "display_data",
          "data": {
            "image/png": "[encoded data removed]",
            "text/plain": [
              "<Figure size 1152x648 with 1 Axes>"
            ]
          },
          "metadata": {
            "tags": [],
            "needs_background": "light"
          }
        }
      ]
    },
    {
      "cell_type": "code",
      "metadata": {
        "id": "dQEW7R6DqsMe"
      },
      "source": [
        "data = data['Open'].values\n"
      ],
      "execution_count": 62,
      "outputs": []
    },
    {
      "cell_type": "code",
      "metadata": {
        "id": "_llZtgI9rBru"
      },
      "source": [
        "data = data.reshape(-1,1)"
      ],
      "execution_count": 63,
      "outputs": []
    },
    {
      "cell_type": "code",
      "metadata": {
        "colab": {
          "base_uri": "https://localhost:8080/"
        },
        "id": "p62kPXIIrLU5",
        "outputId": "c53e4988-539e-4c80-d0f4-4ba430f2bb06"
      },
      "source": [
        "print(data.shape)"
      ],
      "execution_count": 64,
      "outputs": [
        {
          "output_type": "stream",
          "text": [
            "(1221, 1)\n"
          ],
          "name": "stdout"
        }
      ]
    },
    {
      "cell_type": "code",
      "metadata": {
        "colab": {
          "base_uri": "https://localhost:8080/"
        },
        "id": "7c1TZGJFrNrD",
        "outputId": "5ab916f8-a550-4b83-97c2-7bd0a47762fd"
      },
      "source": [
        "data[:5]"
      ],
      "execution_count": 65,
      "outputs": [
        {
          "output_type": "execute_result",
          "data": {
            "text/plain": [
              "array([[25380.],\n",
              "       [26000.],\n",
              "       [25380.],\n",
              "       [24920.],\n",
              "       [25400.]])"
            ]
          },
          "metadata": {
            "tags": []
          },
          "execution_count": 65
        }
      ]
    },
    {
      "cell_type": "code",
      "metadata": {
        "colab": {
          "base_uri": "https://localhost:8080/"
        },
        "id": "rwUaFS8prPns",
        "outputId": "ef5d34a3-cec2-4af0-881d-b8ffe2ffea68"
      },
      "source": [
        "dataset_train = np.array(data[:int(data.shape[0]*0.8)])\n",
        "dataset_test = np.array(data[int(data.shape[0]*0.8)-50:])\n",
        "print(dataset_train.shape)\n",
        "print(dataset_test.shape)"
      ],
      "execution_count": 66,
      "outputs": [
        {
          "output_type": "stream",
          "text": [
            "(976, 1)\n",
            "(295, 1)\n"
          ],
          "name": "stdout"
        }
      ]
    },
    {
      "cell_type": "code",
      "metadata": {
        "colab": {
          "base_uri": "https://localhost:8080/"
        },
        "id": "KCWYMwjVrpN7",
        "outputId": "7727e884-8c83-487b-f11d-22a7333b9b3b"
      },
      "source": [
        "scaler = MinMaxScaler(feature_range=(0,1))\n",
        "dataset_train = scaler.fit_transform(dataset_train)\n",
        "dataset_train[:5]"
      ],
      "execution_count": 67,
      "outputs": [
        {
          "output_type": "execute_result",
          "data": {
            "text/plain": [
              "array([[0.01240561],\n",
              "       [0.02912621],\n",
              "       [0.01240561],\n",
              "       [0.        ],\n",
              "       [0.01294498]])"
            ]
          },
          "metadata": {
            "tags": []
          },
          "execution_count": 67
        }
      ]
    },
    {
      "cell_type": "code",
      "metadata": {
        "colab": {
          "base_uri": "https://localhost:8080/"
        },
        "id": "x_pt1GXAr7or",
        "outputId": "85fccc78-8325-48ef-b599-0191e4c04894"
      },
      "source": [
        "dataset_test = scaler.transform(dataset_test)\n",
        "dataset_test[:5]"
      ],
      "execution_count": 68,
      "outputs": [
        {
          "output_type": "execute_result",
          "data": {
            "text/plain": [
              "array([[0.92179072],\n",
              "       [0.91370011],\n",
              "       [0.88673139],\n",
              "       [0.82470334],\n",
              "       [0.86785329]])"
            ]
          },
          "metadata": {
            "tags": []
          },
          "execution_count": 68
        }
      ]
    },
    {
      "cell_type": "code",
      "metadata": {
        "id": "WIyL87z3sEy0"
      },
      "source": [
        "def create_dataset(df):\n",
        "    x=[]\n",
        "    y=[]\n",
        "    for i in range(50, df.shape[0]):\n",
        "        x.append(df[i-50:i,0])\n",
        "        y.append(df[i,0])\n",
        "    x = np.array(x)\n",
        "    y = np.array(y)\n",
        "    return x,y"
      ],
      "execution_count": 69,
      "outputs": []
    },
    {
      "cell_type": "code",
      "metadata": {
        "id": "YlD97yVtsciA"
      },
      "source": [
        "x_train, y_train = create_dataset(dataset_train)"
      ],
      "execution_count": 70,
      "outputs": []
    },
    {
      "cell_type": "code",
      "metadata": {
        "colab": {
          "base_uri": "https://localhost:8080/"
        },
        "id": "Ce2ABtmCsfsJ",
        "outputId": "aa650c83-1261-44c9-efb8-e4c29839dc5c"
      },
      "source": [
        "x_train[:1]"
      ],
      "execution_count": 71,
      "outputs": [
        {
          "output_type": "execute_result",
          "data": {
            "text/plain": [
              "array([[0.01240561, 0.02912621, 0.01240561, 0.        , 0.01294498,\n",
              "        0.02912621, 0.03398058, 0.02642934, 0.02588997, 0.01941748,\n",
              "        0.02912621, 0.02588997, 0.0210356 , 0.0210356 , 0.02588997,\n",
              "        0.02912621, 0.00755124, 0.00053937, 0.01132686, 0.01402373,\n",
              "        0.02373247, 0.02858684, 0.02696872, 0.02481122, 0.0188781 ,\n",
              "        0.00377562, 0.00161812, 0.00970874, 0.01186624, 0.01294498,\n",
              "        0.01240561, 0.02157497, 0.01995685, 0.02858684, 0.02912621,\n",
              "        0.02750809, 0.01833873, 0.02804746, 0.05609493, 0.06688242,\n",
              "        0.07551241, 0.09331176, 0.08737864, 0.09600863, 0.08090615,\n",
              "        0.06742179, 0.07497303, 0.09007551, 0.08845739, 0.09762675]])"
            ]
          },
          "metadata": {
            "tags": []
          },
          "execution_count": 71
        }
      ]
    },
    {
      "cell_type": "code",
      "metadata": {
        "colab": {
          "base_uri": "https://localhost:8080/"
        },
        "id": "v1zxdT8Zsj7K",
        "outputId": "33df126a-0868-4794-8077-e060c99fd642"
      },
      "source": [
        "x_test, y_test = create_dataset(dataset_test)\n",
        "x_test[:1]"
      ],
      "execution_count": 72,
      "outputs": [
        {
          "output_type": "execute_result",
          "data": {
            "text/plain": [
              "array([[0.92179072, 0.91370011, 0.88673139, 0.82470334, 0.86785329,\n",
              "        0.94606257, 0.94875944, 0.97572816, 0.92448759, 0.94066882,\n",
              "        0.95415318, 0.97842503, 0.97033441, 0.98921251, 0.96763754,\n",
              "        0.94066882, 0.96494067, 0.91370011, 0.87594391, 0.84358145,\n",
              "        0.8381877 , 0.84627832, 0.81121899, 0.79234088, 0.8570658 ,\n",
              "        0.80582524, 0.88133765, 0.85167206, 0.85167206, 0.77885653,\n",
              "        0.79234088, 0.73300971, 0.60760518, 0.67907228, 0.59277238,\n",
              "        0.61569579, 0.57928803, 0.51860841, 0.4768069 , 0.5105178 ,\n",
              "        0.64805825, 0.64940669, 0.66558792, 0.59681769, 0.62243797,\n",
              "        0.60760518, 0.57389428, 0.60625674, 0.60895361, 0.66693635]])"
            ]
          },
          "metadata": {
            "tags": []
          },
          "execution_count": 72
        }
      ]
    },
    {
      "cell_type": "code",
      "metadata": {
        "id": "hsz6d8a8s4to"
      },
      "source": [
        "x_train = np.reshape(x_train,(x_train.shape[0], x_train.shape[1], 1))\n",
        "x_test = np.reshape(x_test, (x_test.shape[0], x_test.shape[1], 1))"
      ],
      "execution_count": 73,
      "outputs": []
    },
    {
      "cell_type": "code",
      "metadata": {
        "colab": {
          "base_uri": "https://localhost:8080/"
        },
        "id": "Xm3envm6tFv1",
        "outputId": "7bf6a1a3-02ea-4ef5-ee20-98735bb3a0fe"
      },
      "source": [
        "model = Sequential()\n",
        "model.add(LSTM(units=96, return_sequences=True, input_shape=(x_train.shape[1],1)))\n",
        "model.add(Dropout(0.2))\n",
        "model.add(LSTM(units=96, return_sequences=True))\n",
        "model.add(Dropout(0.2))\n",
        "model.add(LSTM(units=96, return_sequences=True))\n",
        "model.add(Dropout(0.2))\n",
        "model.add(LSTM(units=96))\n",
        "model.add(Dropout(0.2))\n",
        "model.add(Dense(units=1))\n",
        "model.summary()\n",
        "\n",
        "\n",
        "\n"
      ],
      "execution_count": 74,
      "outputs": [
        {
          "output_type": "stream",
          "text": [
            "Model: \"sequential_2\"\n",
            "_________________________________________________________________\n",
            "Layer (type)                 Output Shape              Param #   \n",
            "=================================================================\n",
            "lstm_8 (LSTM)                (None, 50, 96)            37632     \n",
            "_________________________________________________________________\n",
            "dropout_8 (Dropout)          (None, 50, 96)            0         \n",
            "_________________________________________________________________\n",
            "lstm_9 (LSTM)                (None, 50, 96)            74112     \n",
            "_________________________________________________________________\n",
            "dropout_9 (Dropout)          (None, 50, 96)            0         \n",
            "_________________________________________________________________\n",
            "lstm_10 (LSTM)               (None, 50, 96)            74112     \n",
            "_________________________________________________________________\n",
            "dropout_10 (Dropout)         (None, 50, 96)            0         \n",
            "_________________________________________________________________\n",
            "lstm_11 (LSTM)               (None, 96)                74112     \n",
            "_________________________________________________________________\n",
            "dropout_11 (Dropout)         (None, 96)                0         \n",
            "_________________________________________________________________\n",
            "dense_2 (Dense)              (None, 1)                 97        \n",
            "=================================================================\n",
            "Total params: 260,065\n",
            "Trainable params: 260,065\n",
            "Non-trainable params: 0\n",
            "_________________________________________________________________\n"
          ],
          "name": "stdout"
        }
      ]
    },
    {
      "cell_type": "code",
      "metadata": {
        "id": "5e789eZmtIQb"
      },
      "source": [
        "model.compile(loss='mean_squared_error', optimizer='adam')"
      ],
      "execution_count": 75,
      "outputs": []
    },
    {
      "cell_type": "code",
      "metadata": {
        "colab": {
          "base_uri": "https://localhost:8080/"
        },
        "id": "XT9OECoWtwvL",
        "outputId": "e4c2e570-7855-46cd-b8e0-1324346a8eb9"
      },
      "source": [
        "model.fit(x_train, y_train, epochs=50, batch_size=32)"
      ],
      "execution_count": 76,
      "outputs": [
        {
          "output_type": "stream",
          "text": [
            "Epoch 1/50\n",
            "29/29 [==============================] - 10s 150ms/step - loss: 0.0901\n",
            "Epoch 2/50\n",
            "29/29 [==============================] - 4s 149ms/step - loss: 0.0088\n",
            "Epoch 3/50\n",
            "29/29 [==============================] - 4s 150ms/step - loss: 0.0065\n",
            "Epoch 4/50\n",
            "29/29 [==============================] - 4s 147ms/step - loss: 0.0056\n",
            "Epoch 5/50\n",
            "29/29 [==============================] - 4s 149ms/step - loss: 0.0048\n",
            "Epoch 6/50\n",
            "29/29 [==============================] - 4s 149ms/step - loss: 0.0050\n",
            "Epoch 7/50\n",
            "29/29 [==============================] - 4s 149ms/step - loss: 0.0054\n",
            "Epoch 8/50\n",
            "29/29 [==============================] - 4s 150ms/step - loss: 0.0050\n",
            "Epoch 9/50\n",
            "29/29 [==============================] - 4s 148ms/step - loss: 0.0048\n",
            "Epoch 10/50\n",
            "29/29 [==============================] - 4s 147ms/step - loss: 0.0044\n",
            "Epoch 11/50\n",
            "29/29 [==============================] - 4s 150ms/step - loss: 0.0052\n",
            "Epoch 12/50\n",
            "29/29 [==============================] - 4s 150ms/step - loss: 0.0051\n",
            "Epoch 13/50\n",
            "29/29 [==============================] - 4s 149ms/step - loss: 0.0048\n",
            "Epoch 14/50\n",
            "29/29 [==============================] - 4s 149ms/step - loss: 0.0038\n",
            "Epoch 15/50\n",
            "29/29 [==============================] - 4s 150ms/step - loss: 0.0049\n",
            "Epoch 16/50\n",
            "29/29 [==============================] - 4s 149ms/step - loss: 0.0040\n",
            "Epoch 17/50\n",
            "29/29 [==============================] - 4s 148ms/step - loss: 0.0035\n",
            "Epoch 18/50\n",
            "29/29 [==============================] - 4s 150ms/step - loss: 0.0046\n",
            "Epoch 19/50\n",
            "29/29 [==============================] - 4s 151ms/step - loss: 0.0039\n",
            "Epoch 20/50\n",
            "29/29 [==============================] - 4s 149ms/step - loss: 0.0040\n",
            "Epoch 21/50\n",
            "29/29 [==============================] - 4s 149ms/step - loss: 0.0037\n",
            "Epoch 22/50\n",
            "29/29 [==============================] - 4s 150ms/step - loss: 0.0046\n",
            "Epoch 23/50\n",
            "29/29 [==============================] - 4s 149ms/step - loss: 0.0031\n",
            "Epoch 24/50\n",
            "29/29 [==============================] - 4s 148ms/step - loss: 0.0032\n",
            "Epoch 25/50\n",
            "29/29 [==============================] - 4s 153ms/step - loss: 0.0031\n",
            "Epoch 26/50\n",
            "29/29 [==============================] - 4s 150ms/step - loss: 0.0036\n",
            "Epoch 27/50\n",
            "29/29 [==============================] - 4s 150ms/step - loss: 0.0038\n",
            "Epoch 28/50\n",
            "29/29 [==============================] - 4s 151ms/step - loss: 0.0029\n",
            "Epoch 29/50\n",
            "29/29 [==============================] - 4s 150ms/step - loss: 0.0030\n",
            "Epoch 30/50\n",
            "29/29 [==============================] - 4s 150ms/step - loss: 0.0029\n",
            "Epoch 31/50\n",
            "29/29 [==============================] - 4s 149ms/step - loss: 0.0038\n",
            "Epoch 32/50\n",
            "29/29 [==============================] - 4s 151ms/step - loss: 0.0033\n",
            "Epoch 33/50\n",
            "29/29 [==============================] - 4s 150ms/step - loss: 0.0029\n",
            "Epoch 34/50\n",
            "29/29 [==============================] - 4s 149ms/step - loss: 0.0027\n",
            "Epoch 35/50\n",
            "29/29 [==============================] - 4s 150ms/step - loss: 0.0030\n",
            "Epoch 36/50\n",
            "29/29 [==============================] - 4s 151ms/step - loss: 0.0031\n",
            "Epoch 37/50\n",
            "29/29 [==============================] - 4s 150ms/step - loss: 0.0027\n",
            "Epoch 38/50\n",
            "29/29 [==============================] - 4s 148ms/step - loss: 0.0033\n",
            "Epoch 39/50\n",
            "29/29 [==============================] - 4s 151ms/step - loss: 0.0025\n",
            "Epoch 40/50\n",
            "29/29 [==============================] - 4s 150ms/step - loss: 0.0028\n",
            "Epoch 41/50\n",
            "29/29 [==============================] - 4s 148ms/step - loss: 0.0024\n",
            "Epoch 42/50\n",
            "29/29 [==============================] - 4s 149ms/step - loss: 0.0027\n",
            "Epoch 43/50\n",
            "29/29 [==============================] - 4s 148ms/step - loss: 0.0027\n",
            "Epoch 44/50\n",
            "29/29 [==============================] - 4s 151ms/step - loss: 0.0024\n",
            "Epoch 45/50\n",
            "29/29 [==============================] - 4s 149ms/step - loss: 0.0028\n",
            "Epoch 46/50\n",
            "29/29 [==============================] - 4s 150ms/step - loss: 0.0025\n",
            "Epoch 47/50\n",
            "29/29 [==============================] - 4s 150ms/step - loss: 0.0024\n",
            "Epoch 48/50\n",
            "29/29 [==============================] - 4s 151ms/step - loss: 0.0023\n",
            "Epoch 49/50\n",
            "29/29 [==============================] - 4s 151ms/step - loss: 0.0021\n",
            "Epoch 50/50\n",
            "29/29 [==============================] - 4s 150ms/step - loss: 0.0022\n"
          ],
          "name": "stdout"
        },
        {
          "output_type": "execute_result",
          "data": {
            "text/plain": [
              "<tensorflow.python.keras.callbacks.History at 0x7f5c31ce2c90>"
            ]
          },
          "metadata": {
            "tags": []
          },
          "execution_count": 76
        }
      ]
    },
    {
      "cell_type": "code",
      "metadata": {
        "id": "Hr6Z5UoWt1es"
      },
      "source": [
        "predictions = model.predict(x_test)\n",
        "predictions = scaler.inverse_transform(predictions)"
      ],
      "execution_count": 77,
      "outputs": []
    },
    {
      "cell_type": "code",
      "metadata": {
        "colab": {
          "base_uri": "https://localhost:8080/",
          "height": 474
        },
        "id": "_vMX8UhKu0pA",
        "outputId": "bcea6464-df63-4a9f-c978-cb73b6f3c0bc"
      },
      "source": [
        "fig, ax = plt.subplots(figsize=(18,9))\n",
        "plt.plot(data, color='red', label=\"True price\")\n",
        "ax.plot(range(len(y_train)+50,len(y_train)+50+len(predictions)),predictions,color='blue', label='Predicted Testing Price')\n",
        "plt.legend()"
      ],
      "execution_count": 78,
      "outputs": [
        {
          "output_type": "execute_result",
          "data": {
            "text/plain": [
              "<matplotlib.legend.Legend at 0x7f5c30645290>"
            ]
          },
          "metadata": {
            "tags": []
          },
          "execution_count": 78
        },
        {
          "output_type": "display_data",
          "data": {
            "image/png": "[encoded data removed]",
            "text/plain": [
              "<Figure size 1296x648 with 1 Axes>"
            ]
          },
          "metadata": {
            "tags": [],
            "needs_background": "light"
          }
        }
      ]
    },
    {
      "cell_type": "code",
      "metadata": {
        "colab": {
          "base_uri": "https://localhost:8080/",
          "height": 265
        },
        "id": "KvrDhjQsvQCJ",
        "outputId": "2fbfc0b7-feff-44e0-de49-6578d7764604"
      },
      "source": [
        "plt.plot(range(-10,11),np.array(range(-10,11))**2)\n",
        "plt.show()"
      ],
      "execution_count": 84,
      "outputs": [
        {
          "output_type": "display_data",
          "data": {
            "image/png": "[encoded data removed]",
            "text/plain": [
              "<Figure size 432x288 with 1 Axes>"
            ]
          },
          "metadata": {
            "tags": [],
            "needs_background": "light"
          }
        }
      ]
    },
    {
      "cell_type": "code",
      "metadata": {
        "colab": {
          "base_uri": "https://localhost:8080/"
        },
        "id": "wz-IIe710LTy",
        "outputId": "aa2d0d3a-0b6e-4d25-8b5d-0d3eefa288b0"
      },
      "source": [
        "data"
      ],
      "execution_count": 92,
      "outputs": [
        {
          "output_type": "execute_result",
          "data": {
            "text/plain": [
              "array([[25380.],\n",
              "       [26000.],\n",
              "       [25380.],\n",
              "       ...,\n",
              "       [84000.],\n",
              "       [85800.],\n",
              "       [86200.]])"
            ]
          },
          "metadata": {
            "tags": []
          },
          "execution_count": 92
        }
      ]
    },
    {
      "cell_type": "code",
      "metadata": {
        "id": "qRgsP5uExHJE"
      },
      "source": [
        "data[int(data.shape[0]*0.8)-50:]"
      ],
      "execution_count": null,
      "outputs": []
    },
    {
      "cell_type": "code",
      "metadata": {
        "colab": {
          "base_uri": "https://localhost:8080/"
        },
        "id": "PzOIfmMgyrVO",
        "outputId": "ffbb96a7-878a-474b-8b06-a6d25152d75c"
      },
      "source": [
        "x_train[:1]"
      ],
      "execution_count": 99,
      "outputs": [
        {
          "output_type": "execute_result",
          "data": {
            "text/plain": [
              "array([[[0.01240561],\n",
              "        [0.02912621],\n",
              "        [0.01240561],\n",
              "        [0.        ],\n",
              "        [0.01294498],\n",
              "        [0.02912621],\n",
              "        [0.03398058],\n",
              "        [0.02642934],\n",
              "        [0.02588997],\n",
              "        [0.01941748],\n",
              "        [0.02912621],\n",
              "        [0.02588997],\n",
              "        [0.0210356 ],\n",
              "        [0.0210356 ],\n",
              "        [0.02588997],\n",
              "        [0.02912621],\n",
              "        [0.00755124],\n",
              "        [0.00053937],\n",
              "        [0.01132686],\n",
              "        [0.01402373],\n",
              "        [0.02373247],\n",
              "        [0.02858684],\n",
              "        [0.02696872],\n",
              "        [0.02481122],\n",
              "        [0.0188781 ],\n",
              "        [0.00377562],\n",
              "        [0.00161812],\n",
              "        [0.00970874],\n",
              "        [0.01186624],\n",
              "        [0.01294498],\n",
              "        [0.01240561],\n",
              "        [0.02157497],\n",
              "        [0.01995685],\n",
              "        [0.02858684],\n",
              "        [0.02912621],\n",
              "        [0.02750809],\n",
              "        [0.01833873],\n",
              "        [0.02804746],\n",
              "        [0.05609493],\n",
              "        [0.06688242],\n",
              "        [0.07551241],\n",
              "        [0.09331176],\n",
              "        [0.08737864],\n",
              "        [0.09600863],\n",
              "        [0.08090615],\n",
              "        [0.06742179],\n",
              "        [0.07497303],\n",
              "        [0.09007551],\n",
              "        [0.08845739],\n",
              "        [0.09762675]]])"
            ]
          },
          "metadata": {
            "tags": []
          },
          "execution_count": 99
        }
      ]
    },
    {
      "cell_type": "code",
      "metadata": {
        "id": "OC-8HzlU1r_P"
      },
      "source": [
        ""
      ],
      "execution_count": null,
      "outputs": []
    }
  ]
}